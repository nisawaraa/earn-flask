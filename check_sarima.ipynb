{
 "cells": [
  {
   "cell_type": "code",
   "execution_count": 1,
   "id": "94793468",
   "metadata": {},
   "outputs": [
    {
     "name": "stdout",
     "output_type": "stream",
     "text": [
      "<class 'statsmodels.tsa.statespace.sarimax.SARIMAXResultsWrapper'>\n",
      "ข้อมูลในไฟล์ไม่ใช่ DataFrame\n"
     ]
    }
   ],
   "source": [
    "import pickle\n",
    "import pandas as pd\n",
    "\n",
    "# โหลดไฟล์\n",
    "with open('sarima_model.pkl', 'rb') as f:\n",
    "    sarima_preds = pickle.load(f)\n",
    "\n",
    "# เช็คประเภทข้อมูล\n",
    "print(type(sarima_preds))\n",
    "\n",
    "# ถ้าเป็น DataFrame แสดงข้อมูลบางส่วน\n",
    "if isinstance(sarima_preds, pd.DataFrame):\n",
    "    print(sarima_preds.head())\n",
    "    # เช็คว่ามีปี 2025 หรือไม่\n",
    "    print(sarima_preds[sarima_preds['year'] == 2025])\n",
    "else:\n",
    "    print(\"ข้อมูลในไฟล์ไม่ใช่ DataFrame\")\n"
   ]
  },
  {
   "cell_type": "code",
   "execution_count": 2,
   "id": "2c9efdda",
   "metadata": {},
   "outputs": [
    {
     "name": "stdout",
     "output_type": "stream",
     "text": [
      "         date  forecast_cases  year  month\n",
      "0  2025-01-01       57.356048  2025      1\n",
      "1  2025-02-01       60.040841  2025      2\n",
      "2  2025-03-01       60.735230  2025      3\n",
      "3  2025-04-01       67.167764  2025      4\n",
      "4  2025-05-01       84.127711  2025      5\n",
      "5  2025-06-01      129.872085  2025      6\n",
      "6  2025-07-01      154.083446  2025      7\n",
      "7  2025-08-01      139.698726  2025      8\n",
      "8  2025-09-01       96.652722  2025      9\n",
      "9  2025-10-01       86.003350  2025     10\n",
      "10 2025-11-01       78.895129  2025     11\n",
      "11 2025-12-01       71.092921  2025     12\n"
     ]
    }
   ],
   "source": [
    "import pickle\n",
    "import pandas as pd\n",
    "\n",
    "# โหลดโมเดล SARIMA\n",
    "with open('sarima_model.pkl', 'rb') as f:\n",
    "    sarima_model = pickle.load(f)\n",
    "\n",
    "# ใช้โมเดลทำนาย 12 เดือนล่วงหน้า (หรือจำนวนเดือนที่ต้องการ)\n",
    "forecast = sarima_model.get_forecast(steps=12)\n",
    "\n",
    "# แปลงผลพยากรณ์เป็น DataFrame พร้อมวันที่\n",
    "pred_ci = forecast.conf_int()\n",
    "pred_mean = forecast.predicted_mean\n",
    "\n",
    "# สร้าง DataFrame ที่มีวันที่ (index) และคอลัมน์พยากรณ์\n",
    "df_forecast = pd.DataFrame({\n",
    "    'date': pred_mean.index,\n",
    "    'forecast_cases': pred_mean.values,\n",
    "})\n",
    "\n",
    "# เพิ่มปี-เดือน เพื่อใช้งานบนเว็บ\n",
    "df_forecast['year'] = df_forecast['date'].dt.year\n",
    "df_forecast['month'] = df_forecast['date'].dt.month\n",
    "\n",
    "print(df_forecast)\n"
   ]
  }
 ],
 "metadata": {
  "kernelspec": {
   "display_name": "Python 3",
   "language": "python",
   "name": "python3"
  },
  "language_info": {
   "codemirror_mode": {
    "name": "ipython",
    "version": 3
   },
   "file_extension": ".py",
   "mimetype": "text/x-python",
   "name": "python",
   "nbconvert_exporter": "python",
   "pygments_lexer": "ipython3",
   "version": "3.12.4"
  }
 },
 "nbformat": 4,
 "nbformat_minor": 5
}
